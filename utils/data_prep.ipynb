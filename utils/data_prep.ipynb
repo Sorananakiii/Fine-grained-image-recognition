{
 "cells": [
  {
   "cell_type": "code",
   "execution_count": 3,
   "metadata": {},
   "outputs": [],
   "source": [
    "from pathlib import Path\n",
    "import pandas as pd\n",
    "import tarfile"
   ]
  },
  {
   "cell_type": "code",
   "execution_count": null,
   "metadata": {},
   "outputs": [],
   "source": []
  },
  {
   "attachments": {},
   "cell_type": "markdown",
   "metadata": {},
   "source": [
    "## **CUB 200 2011**"
   ]
  },
  {
   "cell_type": "code",
   "execution_count": 2,
   "metadata": {},
   "outputs": [
    {
     "data": {
      "text/plain": [
       "WindowsPath('C:/Users/Mario')"
      ]
     },
     "execution_count": 2,
     "metadata": {},
     "output_type": "execute_result"
    }
   ],
   "source": [
    "\n",
    "# raw_data = Path.home() / 'fgvc' / 'data' / 'CUB_200_2011.tgz'\n",
    "# tar = tarfile.open(raw_data)\n",
    "# tar.extractall()\n",
    "# tar.close()"
   ]
  },
  {
   "cell_type": "code",
   "execution_count": 9,
   "metadata": {},
   "outputs": [],
   "source": [
    "# read each meta data txt\n",
    "classes = pd.read_csv(Path.cwd().parent / 'CUB_200_2011' / 'classes.txt', sep = ' ', names = ['Category', 'ClassName'])\n",
    "labels = pd.read_csv(Path.cwd().parent / 'CUB_200_2011' / 'image_class_labels.txt', sep = ' ', names = ['ImageID', 'Category'])\n",
    "images = pd.read_csv(Path.cwd().parent / 'CUB_200_2011' / 'images.txt', sep = ' ', names = ['ImageID', 'filename'])\n",
    "splitting = pd.read_csv(Path.cwd().parent / 'CUB_200_2011' / 'train_test_split.txt', sep = ' ', names = ['ImageID', 'is_training'])\n",
    "\n",
    "# join for full data\n",
    "data = classes.merge(labels, on = 'Category')\n",
    "data = data.merge(splitting, on = 'ImageID')\n",
    "data = data.merge(classes, how = 'left', on = 'Category')\n",
    "data['Label'] = data.Category - 1\n",
    "\n",
    "# split to train and test set\n",
    "train = data.loc[data['is_training'] == 1]\n",
    "test = data.loc[data['is_training'] == 0]\n",
    "print(train.shape, test.shape)\n",
    "\n",
    "# save for csv file\n",
    "train.to_csv('train.csv', index=False)\n",
    "test.to_csv('test.csv', index=False)"
   ]
  },
  {
   "cell_type": "code",
   "execution_count": null,
   "metadata": {},
   "outputs": [],
   "source": []
  },
  {
   "attachments": {},
   "cell_type": "markdown",
   "metadata": {},
   "source": [
    "## **FGVC Aircraft**"
   ]
  },
  {
   "cell_type": "code",
   "execution_count": null,
   "metadata": {},
   "outputs": [],
   "source": [
    "## Run it for 1 time to extract tar\n",
    "\n",
    "# raw_data = Path.home() / 'fgvc' / 'data' / 'fgvc-aircraft-2013b.tar.gz'\n",
    "# tar = tarfile.open(raw_data)\n",
    "# tar.extractall(path = path)\n",
    "# tar.close()"
   ]
  },
  {
   "cell_type": "code",
   "execution_count": null,
   "metadata": {},
   "outputs": [],
   "source": [
    "Classes = pd.read_csv('fgvc-aircraft-2013b/data/variants.txt', names = ['Classes'])\n",
    "\n",
    "print(Classes.shape)\n",
    "name = Classes.Classes.values\n",
    "names = dict([*enumerate(name)])\n",
    "names = {v: k for k, v in names.items()}\n",
    "names"
   ]
  },
  {
   "cell_type": "code",
   "execution_count": null,
   "metadata": {},
   "outputs": [],
   "source": [
    "train = pd.read_csv('fgvc-aircraft-2013b/data/images_variant_train.txt', names = ['oneline'])\n",
    "\n",
    "train['filename'] = train.oneline.apply(lambda x: x[:7] + '.jpg')\n",
    "train['Classes'] = train.oneline.apply(lambda x: x[8:])\n",
    "train['Labels'] = train.Classes.map(names)\n",
    "train.drop('oneline', axis=1, inplace=True)\n",
    "train.head()"
   ]
  },
  {
   "cell_type": "code",
   "execution_count": null,
   "metadata": {},
   "outputs": [],
   "source": [
    "val = pd.read_csv('fgvc-aircraft-2013b/data/images_variant_val.txt', names = ['oneline'])\n",
    "\n",
    "val['filename'] = val.oneline.apply(lambda x: x[:7] + '.jpg')\n",
    "val['Classes'] = val.oneline.apply(lambda x: x[8:])\n",
    "val['Labels'] = val.Classes.map(names)\n",
    "val.drop('oneline', axis=1, inplace=True)\n",
    "val.head()"
   ]
  },
  {
   "cell_type": "code",
   "execution_count": null,
   "metadata": {},
   "outputs": [],
   "source": [
    "test = pd.read_csv('fgvc-aircraft-2013b/data/images_variant_test.txt', names = ['oneline'])\n",
    "\n",
    "test['filename'] = test.oneline.apply(lambda x: x[:7] + '.jpg')\n",
    "test['Classes'] = test.oneline.apply(lambda x: x[8:])\n",
    "test['Labels'] = test.Classes.map(names)\n",
    "test.drop('oneline', axis=1, inplace=True)\n",
    "test.head()"
   ]
  },
  {
   "cell_type": "code",
   "execution_count": null,
   "metadata": {},
   "outputs": [],
   "source": [
    "trainset = pd.concat([train, val])\n",
    "trainset = trainset.sort_values(by=['Labels']).reset_index()\n",
    "trainset.drop(['index'], axis=1, inplace=True)"
   ]
  },
  {
   "cell_type": "code",
   "execution_count": null,
   "metadata": {},
   "outputs": [],
   "source": [
    "print(trainset.shape, test.shape)"
   ]
  },
  {
   "cell_type": "code",
   "execution_count": null,
   "metadata": {},
   "outputs": [],
   "source": [
    "trainset.to_csv('train_v2.csv', index=False)\n",
    "test.to_csv('test.csv', index=False)"
   ]
  },
  {
   "attachments": {},
   "cell_type": "markdown",
   "metadata": {},
   "source": [
    "## **Stanford Cars**"
   ]
  },
  {
   "cell_type": "code",
   "execution_count": null,
   "metadata": {},
   "outputs": [],
   "source": [
    "path = 'devkit'\n",
    "dirs = os.listdir(path)\n",
    "print(dirs)"
   ]
  },
  {
   "cell_type": "code",
   "execution_count": null,
   "metadata": {},
   "outputs": [],
   "source": [
    "# Default variables\n",
    "annotation = defaultdict()\n",
    "\n",
    "# list annotation\n",
    "for filename in dirs:\n",
    "    if filename[-4:] == '.mat':\n",
    "        annotation[filename[:-4]] = scipy.io.loadmat(os.path.join(path, filename))\n",
    "#         print(annotation[filename[:-4]].shape)"
   ]
  },
  {
   "cell_type": "code",
   "execution_count": null,
   "metadata": {},
   "outputs": [],
   "source": [
    "def get_labels(cars_meta, train=True):\n",
    "    \n",
    "    if train:\n",
    "        annotations = annotation['cars_train_annos']['annotations'][0]\n",
    "    else:\n",
    "        annotations = annotation['cars_test_annos_withlabels']['annotations'][0]\n",
    "        \n",
    "    classes = annotation[cars_meta]['class_names'][0]\n",
    "    class_names = dict(zip(range(1, len(classes)),[c[0] for c in classes]))\n",
    "    \n",
    "    labelled_images = {}\n",
    "    dataset = []\n",
    "    for i,arr in enumerate(annotations):\n",
    "        # the last entry in the row is the image name\n",
    "        # The rest is the data, first bbox, then classid\n",
    "        dataset.append([y[0][0] for y in arr][0:5]+[arr[5][0]])\n",
    "    # Convert to a DataFrame, and specify the column names\n",
    "    temp_df = pd.DataFrame(dataset, \n",
    "                           columns =['BBOX_X1','BBOX_Y1','BBOX_X2','BBOX_Y2','ClassID','filename'])\n",
    "\n",
    "    temp_df = temp_df.assign(ClassName = temp_df.ClassID.map(dict(class_names)))\n",
    "    temp_df.columns = ['bbox_x1','bbox_y1','bbox_x2','bbox_y2','Category','filename', 'class_name']\n",
    "    return temp_df"
   ]
  },
  {
   "cell_type": "code",
   "execution_count": null,
   "metadata": {},
   "outputs": [],
   "source": [
    "train_df = get_labels('cars_meta')\n",
    "train_df['Labels'] = train_df.Category - 1\n",
    "train_df.to_csv('train.csv', index=False)\n",
    "\n",
    "test_df = get_labels('cars_meta', train=False)\n",
    "test_df['Labels'] = test_df.Category - 1\n",
    "test_df.to_csv('test.csv', index=False)\n",
    "# # Add missing class name! - 'smart fortwo Convertible 2012'\n",
    "# train_df.loc[train_df['class_name'].isnull(), 'class_name'] = 'smart fortwo Convertible 2012'\n",
    "# test_df.loc[test_df['class_name'].isnull(), 'class_name'] = 'smart fortwo Convertible 2012'\n",
    "\n",
    "# frames = [train_df, test_df]\n",
    "# labels_df = pd.concat(frames)\n",
    "# labels_df.reset_index(inplace=True, drop=True)\n",
    "# labels_df = labels_df[['filename', 'bbox_x1', 'bbox_y1','bbox_x2','bbox_y2',\n",
    "#                             'class_id', 'class_name','is_test']]\n",
    "\n",
    "# # adjust the test file names\n",
    "# labels_df['filename'].loc[labels_df['is_test']==1] = 'test_' + labels_df['filename']\n",
    "\n",
    "# # Add the cropped file names\n",
    "# labels_df['filename_cropped'] = labels_df['filename'].copy()\n",
    "# labels_df['filename_cropped'].loc[labels_df['is_test']==0] = 'cropped_' + labels_df['filename']\n",
    "\n",
    "# labels_df.to_csv(path + 'labels_with_annos.csv')\n",
    "# labels_df.head()"
   ]
  },
  {
   "cell_type": "code",
   "execution_count": null,
   "metadata": {},
   "outputs": [],
   "source": [
    "print('training set has shape: ', train_df.shape)\n",
    "train_df.head()\n",
    "\n",
    "print('test set has shape: ', test_df.shape)\n",
    "test_df.head()"
   ]
  }
 ],
 "metadata": {
  "kernelspec": {
   "display_name": "Python 3",
   "language": "python",
   "name": "python3"
  },
  "language_info": {
   "codemirror_mode": {
    "name": "ipython",
    "version": 3
   },
   "file_extension": ".py",
   "mimetype": "text/x-python",
   "name": "python",
   "nbconvert_exporter": "python",
   "pygments_lexer": "ipython3",
   "version": "3.9.0"
  }
 },
 "nbformat": 4,
 "nbformat_minor": 4
}
